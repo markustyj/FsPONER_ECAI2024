{
 "cells": [
  {
   "cell_type": "code",
   "execution_count": 1,
   "id": "363e5e8b",
   "metadata": {},
   "outputs": [],
   "source": [
    "import sklearn.metrics as skm"
   ]
  },
  {
   "cell_type": "code",
   "execution_count": null,
   "id": "c9047daf",
   "metadata": {},
   "outputs": [],
   "source": []
  },
  {
   "cell_type": "code",
   "execution_count": null,
   "id": "52cecd5c",
   "metadata": {},
   "outputs": [],
   "source": []
  },
  {
   "cell_type": "code",
   "execution_count": null,
   "id": "4bb79db1",
   "metadata": {},
   "outputs": [],
   "source": []
  },
  {
   "cell_type": "markdown",
   "id": "411af6c1",
   "metadata": {},
   "source": [
    "## Test the accuracy of the result"
   ]
  },
  {
   "cell_type": "code",
   "execution_count": 2,
   "id": "f003119a",
   "metadata": {},
   "outputs": [],
   "source": [
    "output = {\"tokens\": [\"In\", \"thin\", \"film\", \"magnetic\", \"transducers\", \",\", \"e.g.\", \",\", \"inductive\", \"or\", \"magnetoresistive\", \"recording\", \"heads\", \",\", \"at\", \"least\", \"a\", \"pair\", \"of\", \"layers\", \"of\", \"a\", \"ferromagnetic\", \"material\", \"and\", \"an\", \"antiferromagnetic\", \"material\", \"are\", \"deposited\", \"upon\", \"one\", \"another\", \"and\", \"exchange\", \"coupled\", \"to\", \"retain\", \"a\", \"unidirectional\", \"bias\", \"in\", \"the\", \"plane\", \"of\", \"the\", \"ferromagnetic\", \"material\", \".\"], \n",
    "\"ner_tags\": [\"O\", \"Material\", \"Material\", \"PhysicsFlow\", \"O\", \"O\", \"O\", \"O\", \"InfoFlow\", \"O\", \"InfoFlow\", \"O\", \"O\", \"O\", \"O\", \"O\", \"O\", \"O\", \"O\", \"Material\", \"O\", \"Material\", \"O\", \"O\", \"O\", \"O\", \"O\", \"O\", \"EnergyFlow\", \"O\", \"O\", \"O\", \"Value\", \"O\", \"O\", \"O\", \"Material\", \"Material\", \"O\"]}"
   ]
  },
  {
   "cell_type": "code",
   "execution_count": 3,
   "id": "ce431689",
   "metadata": {},
   "outputs": [],
   "source": [
    "label ={\"tokens\": [\"In\", \"thin\", \"film\", \"magnetic\", \"transducers\", \",\", \"e.g.\", \",\", \"inductive\", \"or\", \"magnetoresistive\", \"recording\", \"heads\", \",\", \"at\", \"least\", \"a\", \"pair\", \"of\", \"layers\", \"of\", \"a\", \"ferromagnetic\", \"material\", \"and\", \"an\", \"antiferromagnetic\", \"material\", \"are\", \"deposited\", \"upon\", \"one\", \"another\", \"and\", \"exchange\", \"coupled\", \"to\", \"retain\", \"a\", \"unidirectional\", \"bias\", \"in\", \"the\", \"plane\", \"of\", \"the\", \"ferromagnetic\", \"material\", \".\"], \"ner_tags\": [\"O\", \"Component\", \"Component\", \"Component\", \"Component\", \"O\", \"O\", \"O\", \"Component\", \"Component\", \"Component\", \"Component\", \"Component\", \"O\", \"O\", \"O\", \"O\", \"O\", \"O\", \"Component\", \"O\", \"O\", \"Material\", \"Material\", \"O\", \"O\", \"Material\", \"Material\", \"O\", \"O\", \"O\", \"O\", \"O\", \"O\", \"O\", \"O\", \"O\", \"O\", \"O\", \"EnergyFlow\", \"EnergyFlow\", \"O\", \"O\", \"Component\", \"O\", \"O\", \"Material\", \"Material\", \"O\"]}\n"
   ]
  },
  {
   "cell_type": "code",
   "execution_count": 4,
   "id": "f7f20b42",
   "metadata": {},
   "outputs": [
    {
     "data": {
      "text/plain": [
       "(39, 49)"
      ]
     },
     "execution_count": 4,
     "metadata": {},
     "output_type": "execute_result"
    }
   ],
   "source": [
    "len(output[\"ner_tags\"]), len(label[\"ner_tags\"]), "
   ]
  },
  {
   "cell_type": "code",
   "execution_count": 98,
   "id": "197e0954",
   "metadata": {},
   "outputs": [
    {
     "data": {
      "text/plain": [
       "(['rings', 'on', 'regulator', 'by', 'wiping', 'with', 'dry', 'cloth', '0'],\n",
       " ['PART', 'O', 'PART', 'O', 'O', 'O', 'PART', 'O', 'O'],\n",
       " ['PART', 'O', 'PART', 'O', 'OPER', 'O', 'TOOL', 'TOOL', 'O'])"
      ]
     },
     "execution_count": 98,
     "metadata": {},
     "output_type": "execute_result"
    }
   ],
   "source": [
    "output[\"tokens\"][13:23], output[\"ner_tags\"][13:23], label[\"ner_tags\"][13:23] #, label[\"tokens\"][20:34]"
   ]
  },
  {
   "cell_type": "code",
   "execution_count": 99,
   "id": "4a4bb0fa",
   "metadata": {},
   "outputs": [],
   "source": [
    "def get_accuracy (output, label):\n",
    "    same_entities = [x for i, x in enumerate(output[\"ner_tags\"]) if  label[\"ner_tags\"][i] == x]\n",
    "    accuracy = len(same_entities) / len(output[\"ner_tags\"])\n",
    "    return accuracy"
   ]
  },
  {
   "cell_type": "code",
   "execution_count": 100,
   "id": "061c4a6d",
   "metadata": {},
   "outputs": [
    {
     "data": {
      "text/plain": [
       "0.6363636363636364"
      ]
     },
     "execution_count": 100,
     "metadata": {},
     "output_type": "execute_result"
    }
   ],
   "source": [
    "get_accuracy(output, label)"
   ]
  },
  {
   "cell_type": "code",
   "execution_count": 120,
   "id": "a1df5084",
   "metadata": {},
   "outputs": [
    {
     "name": "stderr",
     "output_type": "stream",
     "text": [
      "/home/z004r5cc/environments/.env_salmon/lib/python3.8/site-packages/sklearn/metrics/_classification.py:1344: UndefinedMetricWarning: Precision is ill-defined and being set to 0.0 in labels with no predicted samples. Use `zero_division` parameter to control this behavior.\n",
      "  _warn_prf(average, modifier, msg_start, len(result))\n"
     ]
    }
   ],
   "source": [
    "y_true = label[\"ner_tags\"]\n",
    "y_pred = output[\"ner_tags\"]\n",
    "accuracy = skm.accuracy_score( y_true, y_pred)\n",
    "precision = skm.precision_score(y_true, y_pred, average = 'weighted')\n",
    "recall = skm.recall_score(y_true, y_pred, average = 'weighted')\n",
    "f1 = skm.f1_score(y_true, y_pred, average = 'weighted')"
   ]
  },
  {
   "cell_type": "code",
   "execution_count": 121,
   "id": "405185f9",
   "metadata": {},
   "outputs": [
    {
     "data": {
      "text/plain": [
       "(0.6363636363636364,\n",
       " 0.6372377622377623,\n",
       " 0.6363636363636364,\n",
       " 0.5991228070175438)"
      ]
     },
     "execution_count": 121,
     "metadata": {},
     "output_type": "execute_result"
    }
   ],
   "source": [
    "accuracy, precision, recall, f1"
   ]
  },
  {
   "cell_type": "code",
   "execution_count": null,
   "id": "54994887",
   "metadata": {},
   "outputs": [],
   "source": []
  },
  {
   "cell_type": "code",
   "execution_count": null,
   "id": "d140aca7",
   "metadata": {},
   "outputs": [],
   "source": []
  },
  {
   "cell_type": "code",
   "execution_count": 1,
   "id": "7fbb1a5d",
   "metadata": {},
   "outputs": [],
   "source": [
    "output = {'tokens': ['In',\n",
    "  'some',\n",
    "  'cases',\n",
    "  ',',\n",
    "  'successive',\n",
    "  'pairs',\n",
    "  'of',\n",
    "  'layers',\n",
    "  'of',\n",
    "  'material',\n",
    "  'with',\n",
    "  'unidirectional',\n",
    "  'bias',\n",
    "  'have',\n",
    "  'their',\n",
    "  'directions',\n",
    "  'of',\n",
    "  'bias',\n",
    "  'pointing',\n",
    "  'in',\n",
    "  'opposite',\n",
    "  'directions',\n",
    "  '.'],\n",
    " 'ner_tags': ['O',\n",
    "  'O',\n",
    "  'O',\n",
    "  'O',\n",
    "  'O',\n",
    "  'O',\n",
    "  'O',\n",
    "  'Material',\n",
    "  'Material',\n",
    "  'Material',\n",
    "  'O',\n",
    "  'Measure',\n",
    "  'Measure',\n",
    "  'O',\n",
    "  'O',\n",
    "  'State',\n",
    "  'State',\n",
    "  'State',\n",
    "  'O',\n",
    "  'O',\n",
    "  'O',\n",
    "  'O',\n",
    "  'O']}\n",
    "label ={\"tokens\": [\"In\", \"some\", \"cases\", \",\", \"successive\", \"pairs\", \"of\", \"layers\", \"of\", \"material\", \"with\", \"unidirectional\", \"bias\", \"have\", \"their\", \"directions\", \"of\", \"bias\", \"pointing\", \"in\", \"opposite\", \"directions\", \".\"], \"ner_tags\": [\"O\", \"O\", \"O\", \"O\", \"O\", \"O\", \"O\", \"Component\", \"O\", \"Material\", \"O\", \"EnergyFlow\", \"EnergyFlow\", \"O\", \"O\", \"Location\", \"O\", \"EnergyFlow\", \"O\", \"O\", \"Location\", \"Location\", \"O\"]}"
   ]
  },
  {
   "cell_type": "code",
   "execution_count": 2,
   "id": "6c62b667",
   "metadata": {},
   "outputs": [
    {
     "data": {
      "text/plain": [
       "(['have', 'their', 'directions', 'of', 'bias', 'pointing', 'in'],\n",
       " ['O', 'O', 'State', 'State', 'State', 'O', 'O'],\n",
       " ['O', 'O', 'Location', 'O', 'EnergyFlow', 'O', 'O'])"
      ]
     },
     "execution_count": 2,
     "metadata": {},
     "output_type": "execute_result"
    }
   ],
   "source": [
    "output[\"tokens\"][13:20], output[\"ner_tags\"][13:20], label[\"ner_tags\"][13:20] #, label[\"tokens\"][20:34]"
   ]
  },
  {
   "cell_type": "code",
   "execution_count": 5,
   "id": "3979642d",
   "metadata": {},
   "outputs": [
    {
     "name": "stderr",
     "output_type": "stream",
     "text": [
      "/home/z004r5cc/environments/.env_salmon/lib/python3.8/site-packages/sklearn/metrics/_classification.py:1344: UndefinedMetricWarning: Precision is ill-defined and being set to 0.0 in labels with no predicted samples. Use `zero_division` parameter to control this behavior.\n",
      "  _warn_prf(average, modifier, msg_start, len(result))\n",
      "/home/z004r5cc/environments/.env_salmon/lib/python3.8/site-packages/sklearn/metrics/_classification.py:1344: UndefinedMetricWarning: Recall is ill-defined and being set to 0.0 in labels with no true samples. Use `zero_division` parameter to control this behavior.\n",
      "  _warn_prf(average, modifier, msg_start, len(result))\n"
     ]
    },
    {
     "data": {
      "text/plain": [
       "(0.6086956521739131,\n",
       " 0.5797101449275363,\n",
       " 0.6086956521739131,\n",
       " 0.5869565217391305)"
      ]
     },
     "execution_count": 5,
     "metadata": {},
     "output_type": "execute_result"
    }
   ],
   "source": [
    "y_true = label[\"ner_tags\"]\n",
    "y_pred = output[\"ner_tags\"]\n",
    "accuracy = skm.accuracy_score( y_true, y_pred)\n",
    "precision = skm.precision_score(y_true, y_pred, average = 'weighted')\n",
    "recall = skm.recall_score(y_true, y_pred, average = 'weighted')\n",
    "f1 = skm.f1_score(y_true, y_pred, average = 'weighted')\n",
    "accuracy, precision, recall, f1"
   ]
  },
  {
   "cell_type": "code",
   "execution_count": null,
   "id": "53c12d32",
   "metadata": {},
   "outputs": [],
   "source": []
  }
 ],
 "metadata": {
  "kernelspec": {
   "display_name": "Python 3 (ipykernel)",
   "language": "python",
   "name": "python3"
  },
  "language_info": {
   "codemirror_mode": {
    "name": "ipython",
    "version": 3
   },
   "file_extension": ".py",
   "mimetype": "text/x-python",
   "name": "python",
   "nbconvert_exporter": "python",
   "pygments_lexer": "ipython3",
   "version": "3.8.16"
  }
 },
 "nbformat": 4,
 "nbformat_minor": 5
}
